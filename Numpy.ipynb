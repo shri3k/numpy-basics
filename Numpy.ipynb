{
 "cells": [
  {
   "cell_type": "markdown",
   "metadata": {},
   "source": [
    "## Intro"
   ]
  },
  {
   "cell_type": "code",
   "execution_count": 2,
   "metadata": {},
   "outputs": [],
   "source": [
    "import numpy as np"
   ]
  },
  {
   "cell_type": "markdown",
   "metadata": {},
   "source": [
    "**Create a simple array**"
   ]
  },
  {
   "cell_type": "code",
   "execution_count": 6,
   "metadata": {},
   "outputs": [],
   "source": [
    "a1 = np.array([1,2,3]) #numpy array"
   ]
  },
  {
   "cell_type": "markdown",
   "metadata": {},
   "source": [
    "*vs*"
   ]
  },
  {
   "cell_type": "code",
   "execution_count": 7,
   "metadata": {},
   "outputs": [],
   "source": [
    "l1 = [1,2,3] #normal python list"
   ]
  },
  {
   "cell_type": "markdown",
   "metadata": {},
   "source": [
    "-----"
   ]
  },
  {
   "cell_type": "code",
   "execution_count": 9,
   "metadata": {},
   "outputs": [],
   "source": [
    "a2 = np.arange(100) #range in numpy"
   ]
  },
  {
   "cell_type": "markdown",
   "metadata": {},
   "source": [
    "*vs*"
   ]
  },
  {
   "cell_type": "code",
   "execution_count": 10,
   "metadata": {},
   "outputs": [],
   "source": [
    "l2 = range(100) #range in python"
   ]
  },
  {
   "cell_type": "markdown",
   "metadata": {},
   "source": [
    "-------"
   ]
  },
  {
   "cell_type": "markdown",
   "metadata": {},
   "source": [
    "**Basic array operation**"
   ]
  },
  {
   "cell_type": "markdown",
   "metadata": {},
   "source": [
    "*Get the dimension of an array*"
   ]
  },
  {
   "cell_type": "code",
   "execution_count": 16,
   "metadata": {},
   "outputs": [
    {
     "data": {
      "text/plain": [
       "2"
      ]
     },
     "execution_count": 16,
     "metadata": {},
     "output_type": "execute_result"
    }
   ],
   "source": [
    "a3 = np.array([[1,2],[3,4],[5,6]])\n",
    "a3.ndim"
   ]
  },
  {
   "cell_type": "markdown",
   "metadata": {},
   "source": [
    "*Byte size of each element*"
   ]
  },
  {
   "cell_type": "code",
   "execution_count": 19,
   "metadata": {},
   "outputs": [
    {
     "data": {
      "text/plain": [
       "8"
      ]
     },
     "execution_count": 19,
     "metadata": {},
     "output_type": "execute_result"
    }
   ],
   "source": [
    "print(\"a3\", a3.itemsize)\n",
    "a4 = np.array([1,4])\n",
    "print(\"a4\", a4.itemsize)"
   ]
  },
  {
   "cell_type": "markdown",
   "metadata": {},
   "source": [
    "----"
   ]
  },
  {
   "cell_type": "markdown",
   "metadata": {},
   "source": [
    "*Change the default type*"
   ]
  },
  {
   "cell_type": "code",
   "execution_count": 26,
   "metadata": {},
   "outputs": [
    {
     "name": "stdout",
     "output_type": "stream",
     "text": [
      "8\n",
      "[[1. 2.]\n",
      " [3. 4.]\n",
      " [5. 6.]]\n",
      "16\n",
      "[[1.+0.j 2.+0.j]\n",
      " [3.+0.j 4.+0.j]\n",
      " [5.+0.j 6.+0.j]]\n"
     ]
    }
   ],
   "source": [
    "a5 = np.array([[1,2],[3,4],[5,6]], dtype=np.float64)\n",
    "print(a5.itemsize)\n",
    "print(a5)\n",
    "a5 = np.array([[1,2],[3,4],[5,6]], dtype=complex)\n",
    "print(a5.itemsize)\n",
    "print(a5)"
   ]
  },
  {
   "cell_type": "markdown",
   "metadata": {},
   "source": [
    "*Size of array*"
   ]
  },
  {
   "cell_type": "code",
   "execution_count": 28,
   "metadata": {},
   "outputs": [
    {
     "name": "stdout",
     "output_type": "stream",
     "text": [
      "6\n",
      "2\n"
     ]
    }
   ],
   "source": [
    "print(a5.size)\n",
    "a6 = np.array([1,2])\n",
    "print(a6.size)"
   ]
  },
  {
   "cell_type": "markdown",
   "metadata": {},
   "source": [
    "*Shape of array*"
   ]
  },
  {
   "cell_type": "code",
   "execution_count": 29,
   "metadata": {},
   "outputs": [
    {
     "data": {
      "text/plain": [
       "(3, 2)"
      ]
     },
     "execution_count": 29,
     "metadata": {},
     "output_type": "execute_result"
    }
   ],
   "source": [
    "a5.shape"
   ]
  },
  {
   "cell_type": "markdown",
   "metadata": {},
   "source": [
    "*Initialize arrays*"
   ]
  },
  {
   "cell_type": "code",
   "execution_count": 39,
   "metadata": {},
   "outputs": [
    {
     "name": "stdout",
     "output_type": "stream",
     "text": [
      "[[0. 0. 0. 0. 0.]\n",
      " [0. 0. 0. 0. 0.]]\n",
      "[[1. 1. 1. 1. 1.]\n",
      " [1. 1. 1. 1. 1.]]\n"
     ]
    }
   ],
   "source": [
    "print(np.zeros((2,5)))\n",
    "print(np.ones((2,5)))"
   ]
  },
  {
   "cell_type": "markdown",
   "metadata": {},
   "source": [
    "*Reshape dimension*"
   ]
  },
  {
   "cell_type": "code",
   "execution_count": 40,
   "metadata": {},
   "outputs": [
    {
     "data": {
      "text/plain": [
       "(3, 2)"
      ]
     },
     "execution_count": 40,
     "metadata": {},
     "output_type": "execute_result"
    }
   ],
   "source": [
    "a7 = np.array(([1,2],[3,4],[5,6]))\n",
    "a7.shape"
   ]
  },
  {
   "cell_type": "code",
   "execution_count": 41,
   "metadata": {},
   "outputs": [
    {
     "data": {
      "text/plain": [
       "array([[1, 2, 3],\n",
       "       [4, 5, 6]])"
      ]
     },
     "execution_count": 41,
     "metadata": {},
     "output_type": "execute_result"
    }
   ],
   "source": [
    "a7.reshape(2,3)"
   ]
  },
  {
   "cell_type": "code",
   "execution_count": 43,
   "metadata": {},
   "outputs": [
    {
     "data": {
      "text/plain": [
       "array([[1, 2, 3, 4, 5, 6]])"
      ]
     },
     "execution_count": 43,
     "metadata": {},
     "output_type": "execute_result"
    }
   ],
   "source": [
    "a7.reshape(1,6)"
   ]
  },
  {
   "cell_type": "code",
   "execution_count": 44,
   "metadata": {},
   "outputs": [
    {
     "data": {
      "text/plain": [
       "array([[1, 2],\n",
       "       [3, 4],\n",
       "       [5, 6]])"
      ]
     },
     "execution_count": 44,
     "metadata": {},
     "output_type": "execute_result"
    }
   ],
   "source": [
    "a7.reshape(3,2)"
   ]
  },
  {
   "cell_type": "code",
   "execution_count": 45,
   "metadata": {},
   "outputs": [
    {
     "data": {
      "text/plain": [
       "array([1, 2, 3, 4, 5, 6])"
      ]
     },
     "execution_count": 45,
     "metadata": {},
     "output_type": "execute_result"
    }
   ],
   "source": [
    "a7.ravel() #return the flatten the array "
   ]
  },
  {
   "cell_type": "markdown",
   "metadata": {},
   "source": [
    "*Basic operations*"
   ]
  },
  {
   "cell_type": "code",
   "execution_count": 46,
   "metadata": {},
   "outputs": [
    {
     "name": "stdout",
     "output_type": "stream",
     "text": [
      "1\n",
      "6\n",
      "21\n"
     ]
    }
   ],
   "source": [
    "print(a7.min())\n",
    "print(a7.max())\n",
    "print(a7.sum())"
   ]
  },
  {
   "cell_type": "markdown",
   "metadata": {},
   "source": [
    "<img src=\"./axis.png\" alt=\"Drawing\" style=\"width: 200px;\"/>"
   ]
  },
  {
   "cell_type": "code",
   "execution_count": 49,
   "metadata": {},
   "outputs": [
    {
     "data": {
      "text/plain": [
       "array([ 9, 12])"
      ]
     },
     "execution_count": 49,
     "metadata": {},
     "output_type": "execute_result"
    }
   ],
   "source": [
    "a7.sum(axis=0)"
   ]
  },
  {
   "cell_type": "code",
   "execution_count": 50,
   "metadata": {},
   "outputs": [
    {
     "data": {
      "text/plain": [
       "array([ 3,  7, 11])"
      ]
     },
     "execution_count": 50,
     "metadata": {},
     "output_type": "execute_result"
    }
   ],
   "source": [
    "a7.sum(axis=1)"
   ]
  },
  {
   "cell_type": "code",
   "execution_count": 51,
   "metadata": {},
   "outputs": [
    {
     "data": {
      "text/plain": [
       "array([[1.        , 1.41421356],\n",
       "       [1.73205081, 2.        ],\n",
       "       [2.23606798, 2.44948974]])"
      ]
     },
     "execution_count": 51,
     "metadata": {},
     "output_type": "execute_result"
    }
   ],
   "source": [
    "np.sqrt(a7)"
   ]
  },
  {
   "cell_type": "code",
   "execution_count": 53,
   "metadata": {},
   "outputs": [
    {
     "data": {
      "text/plain": [
       "1.707825127659933"
      ]
     },
     "execution_count": 53,
     "metadata": {},
     "output_type": "execute_result"
    }
   ],
   "source": [
    "np.std(a7) #standard deviation"
   ]
  },
  {
   "cell_type": "markdown",
   "metadata": {},
   "source": [
    "*Basic math operation*"
   ]
  },
  {
   "cell_type": "code",
   "execution_count": 54,
   "metadata": {},
   "outputs": [],
   "source": [
    "a8 = np.array([[9,8],[7,6],[5,4]])"
   ]
  },
  {
   "cell_type": "code",
   "execution_count": 55,
   "metadata": {},
   "outputs": [
    {
     "data": {
      "text/plain": [
       "array([[10, 10],\n",
       "       [10, 10],\n",
       "       [10, 10]])"
      ]
     },
     "execution_count": 55,
     "metadata": {},
     "output_type": "execute_result"
    }
   ],
   "source": [
    "a7+a8"
   ]
  },
  {
   "cell_type": "code",
   "execution_count": 57,
   "metadata": {},
   "outputs": [
    {
     "data": {
      "text/plain": [
       "array([[ 9, 16],\n",
       "       [21, 24],\n",
       "       [25, 24]])"
      ]
     },
     "execution_count": 57,
     "metadata": {},
     "output_type": "execute_result"
    }
   ],
   "source": [
    "a7*a8"
   ]
  },
  {
   "cell_type": "code",
   "execution_count": 58,
   "metadata": {},
   "outputs": [
    {
     "data": {
      "text/plain": [
       "array([[0.11111111, 0.25      ],\n",
       "       [0.42857143, 0.66666667],\n",
       "       [1.        , 1.5       ]])"
      ]
     },
     "execution_count": 58,
     "metadata": {},
     "output_type": "execute_result"
    }
   ],
   "source": [
    "a7/a8"
   ]
  },
  {
   "cell_type": "code",
   "execution_count": 63,
   "metadata": {},
   "outputs": [
    {
     "data": {
      "text/plain": [
       "array([[21, 18, 15],\n",
       "       [51, 44, 37],\n",
       "       [81, 70, 59]])"
      ]
     },
     "execution_count": 63,
     "metadata": {},
     "output_type": "execute_result"
    }
   ],
   "source": [
    "a8 = a8.reshape(2,3)\n",
    "a7.dot(a8)"
   ]
  },
  {
   "cell_type": "markdown",
   "metadata": {},
   "source": [
    "*Indexing and slicing*"
   ]
  },
  {
   "cell_type": "code",
   "execution_count": 66,
   "metadata": {},
   "outputs": [
    {
     "data": {
      "text/plain": [
       "array([5, 4, 5])"
      ]
     },
     "execution_count": 66,
     "metadata": {},
     "output_type": "execute_result"
    }
   ],
   "source": [
    "a9 = np.array([5,4,5,6])\n",
    "a9[0:3]"
   ]
  },
  {
   "cell_type": "code",
   "execution_count": 70,
   "metadata": {},
   "outputs": [
    {
     "name": "stdout",
     "output_type": "stream",
     "text": [
      "[[ 3  3  4]\n",
      " [ 4  2  5]\n",
      " [ 5 52 23]]\n"
     ]
    },
    {
     "data": {
      "text/plain": [
       "array([ 5, 23])"
      ]
     },
     "execution_count": 70,
     "metadata": {},
     "output_type": "execute_result"
    }
   ],
   "source": [
    "a10 = np.array([[3,3,4],[4,2,5],[5,52,23]])\n",
    "print(a10)\n",
    "a10[1:3,2] #first arg is row and second is col so it goes to first row and prints the 2 indexed item and second row\n"
   ]
  },
  {
   "cell_type": "code",
   "execution_count": 71,
   "metadata": {},
   "outputs": [
    {
     "data": {
      "text/plain": [
       "array([ 5, 52, 23])"
      ]
     },
     "execution_count": 71,
     "metadata": {},
     "output_type": "execute_result"
    }
   ],
   "source": [
    "a10[-1]"
   ]
  },
  {
   "cell_type": "code",
   "execution_count": 72,
   "metadata": {},
   "outputs": [
    {
     "data": {
      "text/plain": [
       "array([ 5, 52])"
      ]
     },
     "execution_count": 72,
     "metadata": {},
     "output_type": "execute_result"
    }
   ],
   "source": [
    "a10[-1, 0:2]"
   ]
  },
  {
   "cell_type": "code",
   "execution_count": 73,
   "metadata": {},
   "outputs": [
    {
     "data": {
      "text/plain": [
       "array([[ 3,  4],\n",
       "       [ 2,  5],\n",
       "       [52, 23]])"
      ]
     },
     "execution_count": 73,
     "metadata": {},
     "output_type": "execute_result"
    }
   ],
   "source": [
    "a10[:,1:3]"
   ]
  },
  {
   "cell_type": "markdown",
   "metadata": {},
   "source": [
    "*Flatten the array*"
   ]
  },
  {
   "cell_type": "code",
   "execution_count": 76,
   "metadata": {},
   "outputs": [
    {
     "name": "stdout",
     "output_type": "stream",
     "text": [
      "3\n",
      "3\n",
      "4\n",
      "4\n",
      "2\n",
      "5\n",
      "5\n",
      "52\n",
      "23\n"
     ]
    }
   ],
   "source": [
    "for cell in a10.flat:\n",
    "    print(cell)"
   ]
  },
  {
   "cell_type": "markdown",
   "metadata": {},
   "source": [
    "*Stack and split the array*"
   ]
  },
  {
   "cell_type": "code",
   "execution_count": 88,
   "metadata": {},
   "outputs": [
    {
     "name": "stdout",
     "output_type": "stream",
     "text": [
      "a11= [[0.13079584 0.26880313 0.3406167 ]\n",
      " [0.40019251 0.07944542 0.98993564]\n",
      " [0.56601671 0.25020732 0.45810921]]\n",
      "a12= [[0.97014733 0.25915561 0.07677802]\n",
      " [0.43028341 0.95955615 0.35018592]\n",
      " [0.66238689 0.63838023 0.69634298]]\n",
      "vertical stack: [[0.13079584 0.26880313 0.3406167 ]\n",
      " [0.40019251 0.07944542 0.98993564]\n",
      " [0.56601671 0.25020732 0.45810921]\n",
      " [0.97014733 0.25915561 0.07677802]\n",
      " [0.43028341 0.95955615 0.35018592]\n",
      " [0.66238689 0.63838023 0.69634298]]\n",
      "horizontal stack: [[0.13079584 0.26880313 0.3406167  0.97014733 0.25915561 0.07677802]\n",
      " [0.40019251 0.07944542 0.98993564 0.43028341 0.95955615 0.35018592]\n",
      " [0.56601671 0.25020732 0.45810921 0.66238689 0.63838023 0.69634298]]\n"
     ]
    }
   ],
   "source": [
    "a11 = np.random.rand(3,3)\n",
    "print('a11=', a11)\n",
    "a12 = np.random.rand(3,3)\n",
    "print('a12=', a12)\n",
    "print('vertical stack:', np.vstack((a11,a12)))\n",
    "print('horizontal stack:', np.hstack((a11,a12)))"
   ]
  },
  {
   "cell_type": "code",
   "execution_count": 97,
   "metadata": {},
   "outputs": [
    {
     "name": "stdout",
     "output_type": "stream",
     "text": [
      "a13= [[0.77163351 0.68781106 0.3878507  0.41073713 0.33903132 0.54254564\n",
      "  0.1934058  0.6819048  0.71710763 0.73997968 0.17723561 0.2493671\n",
      "  0.20639617 0.3558236  0.35205535]\n",
      " [0.02151244 0.71615991 0.30436228 0.06239616 0.73979364 0.7876514\n",
      "  0.97066642 0.22617755 0.62824419 0.5202578  0.30248983 0.49254646\n",
      "  0.07951832 0.66733219 0.52496156]]\n",
      "------------\n",
      "hsplit: [array([[0.77163351, 0.68781106, 0.3878507 , 0.41073713, 0.33903132],\n",
      "       [0.02151244, 0.71615991, 0.30436228, 0.06239616, 0.73979364]]), array([[0.54254564, 0.1934058 , 0.6819048 , 0.71710763, 0.73997968],\n",
      "       [0.7876514 , 0.97066642, 0.22617755, 0.62824419, 0.5202578 ]]), array([[0.17723561, 0.2493671 , 0.20639617, 0.3558236 , 0.35205535],\n",
      "       [0.30248983, 0.49254646, 0.07951832, 0.66733219, 0.52496156]])]\n"
     ]
    }
   ],
   "source": [
    "a13 = np.random.rand(2,15)\n",
    "print('a13=', a13)\n",
    "print('------------')\n",
    "print('hsplit:',np.hsplit(a13, 3))"
   ]
  },
  {
   "cell_type": "code",
   "execution_count": 98,
   "metadata": {},
   "outputs": [
    {
     "name": "stdout",
     "output_type": "stream",
     "text": [
      "vsplit: [array([[0.77163351, 0.68781106, 0.3878507 , 0.41073713, 0.33903132,\n",
      "        0.54254564, 0.1934058 , 0.6819048 , 0.71710763, 0.73997968,\n",
      "        0.17723561, 0.2493671 , 0.20639617, 0.3558236 , 0.35205535]]), array([[0.02151244, 0.71615991, 0.30436228, 0.06239616, 0.73979364,\n",
      "        0.7876514 , 0.97066642, 0.22617755, 0.62824419, 0.5202578 ,\n",
      "        0.30248983, 0.49254646, 0.07951832, 0.66733219, 0.52496156]])]\n"
     ]
    }
   ],
   "source": [
    "print('vsplit:',np.vsplit(a13, 2))"
   ]
  },
  {
   "cell_type": "markdown",
   "metadata": {},
   "source": [
    "*Boolean operation*"
   ]
  },
  {
   "cell_type": "code",
   "execution_count": 99,
   "metadata": {},
   "outputs": [
    {
     "data": {
      "text/plain": [
       "array([[ True,  True,  True,  True,  True,  True, False,  True,  True,\n",
       "         True, False, False, False,  True,  True],\n",
       "       [False,  True,  True, False,  True,  True,  True, False,  True,\n",
       "         True,  True,  True, False,  True,  True]])"
      ]
     },
     "execution_count": 99,
     "metadata": {},
     "output_type": "execute_result"
    }
   ],
   "source": [
    "b = a13 > 0.3\n",
    "b"
   ]
  },
  {
   "cell_type": "code",
   "execution_count": 101,
   "metadata": {},
   "outputs": [
    {
     "data": {
      "text/plain": [
       "array([0.77163351, 0.68781106, 0.3878507 , 0.41073713, 0.33903132,\n",
       "       0.54254564, 0.6819048 , 0.71710763, 0.73997968, 0.3558236 ,\n",
       "       0.35205535, 0.71615991, 0.30436228, 0.73979364, 0.7876514 ,\n",
       "       0.97066642, 0.62824419, 0.5202578 , 0.30248983, 0.49254646,\n",
       "       0.66733219, 0.52496156])"
      ]
     },
     "execution_count": 101,
     "metadata": {},
     "output_type": "execute_result"
    }
   ],
   "source": [
    "a13[b] #only return values that has True boolean in b"
   ]
  },
  {
   "cell_type": "code",
   "execution_count": 103,
   "metadata": {},
   "outputs": [
    {
     "name": "stdout",
     "output_type": "stream",
     "text": [
      "[[-1.         -1.         -1.         -1.         -1.         -1.\n",
      "   0.1934058  -1.         -1.         -1.          0.17723561  0.2493671\n",
      "   0.20639617 -1.         -1.        ]\n",
      " [ 0.02151244 -1.         -1.          0.06239616 -1.         -1.\n",
      "  -1.          0.22617755 -1.         -1.         -1.         -1.\n",
      "   0.07951832 -1.         -1.        ]]\n"
     ]
    }
   ],
   "source": [
    "a13[b]=-1 #replace False as -1\n",
    "print(a13)"
   ]
  },
  {
   "cell_type": "markdown",
   "metadata": {},
   "source": [
    "**Iteration in array**"
   ]
  },
  {
   "cell_type": "code",
   "execution_count": 105,
   "metadata": {},
   "outputs": [
    {
     "name": "stdout",
     "output_type": "stream",
     "text": [
      "-1.0\n",
      "-1.0\n",
      "-1.0\n",
      "-1.0\n",
      "-1.0\n",
      "-1.0\n",
      "0.1934058046899798\n",
      "-1.0\n",
      "-1.0\n",
      "-1.0\n",
      "0.17723560828555074\n",
      "0.24936710496561976\n",
      "0.20639616896888857\n",
      "-1.0\n",
      "-1.0\n",
      "0.021512441614586653\n",
      "-1.0\n",
      "-1.0\n",
      "0.06239615858776715\n",
      "-1.0\n",
      "-1.0\n",
      "-1.0\n",
      "0.22617755225519365\n",
      "-1.0\n",
      "-1.0\n",
      "-1.0\n",
      "-1.0\n",
      "0.07951832171235107\n",
      "-1.0\n",
      "-1.0\n"
     ]
    }
   ],
   "source": [
    "for x in a13.flatten():\n",
    "    print(x)"
   ]
  },
  {
   "cell_type": "code",
   "execution_count": 107,
   "metadata": {},
   "outputs": [
    {
     "name": "stdout",
     "output_type": "stream",
     "text": [
      "-1.0\n",
      "-1.0\n",
      "-1.0\n",
      "-1.0\n",
      "-1.0\n",
      "-1.0\n",
      "0.1934058046899798\n",
      "-1.0\n",
      "-1.0\n",
      "-1.0\n",
      "0.17723560828555074\n",
      "0.24936710496561976\n",
      "0.20639616896888857\n",
      "-1.0\n",
      "-1.0\n",
      "0.021512441614586653\n",
      "-1.0\n",
      "-1.0\n",
      "0.06239615858776715\n",
      "-1.0\n",
      "-1.0\n",
      "-1.0\n",
      "0.22617755225519365\n",
      "-1.0\n",
      "-1.0\n",
      "-1.0\n",
      "-1.0\n",
      "0.07951832171235107\n",
      "-1.0\n",
      "-1.0\n"
     ]
    }
   ],
   "source": [
    "for x in np.nditer(a13,order='C'): #same as above\n",
    "    print(x)"
   ]
  },
  {
   "cell_type": "code",
   "execution_count": 109,
   "metadata": {},
   "outputs": [
    {
     "name": "stdout",
     "output_type": "stream",
     "text": [
      "-1.0\n",
      "0.021512441614586653\n",
      "-1.0\n",
      "-1.0\n",
      "-1.0\n",
      "-1.0\n",
      "-1.0\n",
      "0.06239615858776715\n",
      "-1.0\n",
      "-1.0\n",
      "-1.0\n",
      "-1.0\n",
      "0.1934058046899798\n",
      "-1.0\n",
      "-1.0\n",
      "0.22617755225519365\n",
      "-1.0\n",
      "-1.0\n",
      "-1.0\n",
      "-1.0\n",
      "0.17723560828555074\n",
      "-1.0\n",
      "0.24936710496561976\n",
      "-1.0\n",
      "0.20639616896888857\n",
      "0.07951832171235107\n",
      "-1.0\n",
      "-1.0\n",
      "-1.0\n",
      "-1.0\n"
     ]
    }
   ],
   "source": [
    "for x in np.nditer(a13,order='F'): #fortan order\n",
    "    print(x)"
   ]
  },
  {
   "cell_type": "markdown",
   "metadata": {},
   "source": [
    "<img src=\"./nditer-order.png\" width=\"200\" height=\"200\"/>"
   ]
  },
  {
   "cell_type": "code",
   "execution_count": 115,
   "metadata": {},
   "outputs": [
    {
     "data": {
      "text/plain": [
       "\"for x in np.nditer(a13,order='F'): #fortan order\\n    print(x)\""
      ]
     },
     "execution_count": 115,
     "metadata": {},
     "output_type": "execute_result"
    }
   ],
   "source": [
    "In[109]"
   ]
  }
 ],
 "metadata": {
  "kernelspec": {
   "display_name": "Python 3",
   "language": "python",
   "name": "python3"
  },
  "language_info": {
   "codemirror_mode": {
    "name": "ipython",
    "version": 3
   },
   "file_extension": ".py",
   "mimetype": "text/x-python",
   "name": "python",
   "nbconvert_exporter": "python",
   "pygments_lexer": "ipython3",
   "version": "3.6.3"
  }
 },
 "nbformat": 4,
 "nbformat_minor": 2
}
